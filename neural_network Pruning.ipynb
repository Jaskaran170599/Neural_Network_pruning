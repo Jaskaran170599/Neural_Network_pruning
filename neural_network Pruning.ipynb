{
 "cells": [
  {
   "cell_type": "markdown",
   "metadata": {},
   "source": [
    "1. Read the Rules!\n",
    "2. Construct a ReLU-activated neural network with four hidden layers with sizes [1000, 1000,\n",
    "500, 200]. Note: you’ll have a fifth layer for your output logits, which you will have 10 of.\n",
    "3. Train your network on MNIST or Fashion-MNIST (your choice, whatever is easier)\n",
    "4. Prune away (set to zero) the k% of weights using weight and unit pruning for k in [0, 25,\n",
    "50, 60, 70, 80, 90, 95, 97, 99]. Remember not to prune the weights leading to the output\n",
    "logits.\n",
    "5. Create a table or plot showing the percent sparsity (number of weights in your network\n",
    "that are zero) versus percent accuracy with two curves (one for weight pruning and one\n",
    "for unit pruning).\n",
    "6. Make your code clean and readable. Add comments where needed.\n",
    "7. Follow the submission guidelines \n",
    "\n",
    "Bonus: See if you can find a way to use your new-found sparsity to speed up the execution of\n",
    "your neural net! Hint: ctrl + f “sparse” in the TF docs, or use unit level sparsity (which deletes\n",
    "entire rows and columns from weight matrices). This can be tricky but is a worthwhile engineering\n",
    "lesson in the optimization of Tensorflow / PyTorch models. Report the increased speed. For\n",
    "example: the performance improved by 25% after using this. "
   ]
  },
  {
   "cell_type": "code",
   "execution_count": 1,
   "metadata": {},
   "outputs": [],
   "source": [
    "import tensorflow as tf\n",
    "import numpy as np\n",
    "import time\n",
    "import matplotlib.pyplot as plt\n",
    "import sys\n",
    "from tensorflow.examples.tutorials import mnist"
   ]
  },
  {
   "cell_type": "code",
   "execution_count": 2,
   "metadata": {
    "scrolled": true
   },
   "outputs": [
    {
     "name": "stdout",
     "output_type": "stream",
     "text": [
      "WARNING:tensorflow:From <ipython-input-2-31e2136e0aa0>:1: read_data_sets (from tensorflow.contrib.learn.python.learn.datasets.mnist) is deprecated and will be removed in a future version.\n",
      "Instructions for updating:\n",
      "Please use alternatives such as official/mnist/dataset.py from tensorflow/models.\n",
      "WARNING:tensorflow:From C:\\Users\\Dell\\Anaconda3\\lib\\site-packages\\tensorflow\\contrib\\learn\\python\\learn\\datasets\\mnist.py:260: maybe_download (from tensorflow.contrib.learn.python.learn.datasets.base) is deprecated and will be removed in a future version.\n",
      "Instructions for updating:\n",
      "Please write your own downloading logic.\n",
      "WARNING:tensorflow:From C:\\Users\\Dell\\Anaconda3\\lib\\site-packages\\tensorflow\\contrib\\learn\\python\\learn\\datasets\\mnist.py:262: extract_images (from tensorflow.contrib.learn.python.learn.datasets.mnist) is deprecated and will be removed in a future version.\n",
      "Instructions for updating:\n",
      "Please use tf.data to implement this functionality.\n",
      "Extracting ./Neural networks/train-images-idx3-ubyte.gz\n",
      "WARNING:tensorflow:From C:\\Users\\Dell\\Anaconda3\\lib\\site-packages\\tensorflow\\contrib\\learn\\python\\learn\\datasets\\mnist.py:267: extract_labels (from tensorflow.contrib.learn.python.learn.datasets.mnist) is deprecated and will be removed in a future version.\n",
      "Instructions for updating:\n",
      "Please use tf.data to implement this functionality.\n",
      "Extracting ./Neural networks/train-labels-idx1-ubyte.gz\n",
      "WARNING:tensorflow:From C:\\Users\\Dell\\Anaconda3\\lib\\site-packages\\tensorflow\\contrib\\learn\\python\\learn\\datasets\\mnist.py:110: dense_to_one_hot (from tensorflow.contrib.learn.python.learn.datasets.mnist) is deprecated and will be removed in a future version.\n",
      "Instructions for updating:\n",
      "Please use tf.one_hot on tensors.\n",
      "Extracting ./Neural networks/t10k-images-idx3-ubyte.gz\n",
      "Extracting ./Neural networks/t10k-labels-idx1-ubyte.gz\n",
      "WARNING:tensorflow:From C:\\Users\\Dell\\Anaconda3\\lib\\site-packages\\tensorflow\\contrib\\learn\\python\\learn\\datasets\\mnist.py:290: DataSet.__init__ (from tensorflow.contrib.learn.python.learn.datasets.mnist) is deprecated and will be removed in a future version.\n",
      "Instructions for updating:\n",
      "Please use alternatives such as official/mnist/dataset.py from tensorflow/models.\n"
     ]
    }
   ],
   "source": [
    "data=mnist.input_data.read_data_sets(\"./Neural networks/\",one_hot=True)"
   ]
  },
  {
   "cell_type": "markdown",
   "metadata": {},
   "source": [
    "\n",
    "# Deep Model"
   ]
  },
  {
   "cell_type": "code",
   "execution_count": 3,
   "metadata": {},
   "outputs": [],
   "source": [
    "tf.reset_default_graph()\n",
    "X=tf.placeholder(\"float32\",shape=(None,784),name=\"input_x\")\n",
    "Y=tf.placeholder(\"int32\",shape=(None,10),name=\"labels\")"
   ]
  },
  {
   "cell_type": "code",
   "execution_count": 4,
   "metadata": {},
   "outputs": [],
   "source": [
    "weights={\n",
    "    \"L1\": tf.Variable(tf.random_uniform((784,1000))),\n",
    "    \"L2\": tf.Variable(tf.random_uniform((1000,1000))),\n",
    "    \"L3\": tf.Variable(tf.random_uniform((1000,500))),\n",
    "    \"L4\": tf.Variable(tf.random_uniform((500,200))),\n",
    "    \"output\": tf.Variable(tf.random_uniform((1000,10))),\n",
    "}"
   ]
  },
  {
   "cell_type": "code",
   "execution_count": 5,
   "metadata": {},
   "outputs": [],
   "source": [
    "def forward(X):\n",
    "    l1=tf.nn.relu(tf.matmul(X,weights[\"L1\"]))\n",
    "    l2=tf.nn.relu(tf.matmul(l1,weights[\"L2\"]))\n",
    "    l3=tf.nn.relu(tf.matmul(l2,weights[\"L3\"]))\n",
    "    l4=tf.nn.relu(tf.matmul(l3,weights[\"L4\"]))\n",
    "    output=tf.matmul(l2,weights[\"output\"])\n",
    "    \n",
    "    return output\n",
    "    "
   ]
  },
  {
   "cell_type": "code",
   "execution_count": 6,
   "metadata": {},
   "outputs": [
    {
     "name": "stdout",
     "output_type": "stream",
     "text": [
      "WARNING:tensorflow:From <ipython-input-6-1e0697355338>:2: softmax_cross_entropy_with_logits (from tensorflow.python.ops.nn_ops) is deprecated and will be removed in a future version.\n",
      "Instructions for updating:\n",
      "\n",
      "Future major versions of TensorFlow will allow gradients to flow\n",
      "into the labels input on backprop by default.\n",
      "\n",
      "See @{tf.nn.softmax_cross_entropy_with_logits_v2}.\n",
      "\n"
     ]
    }
   ],
   "source": [
    "preds=forward(X)\n",
    "loss=tf.reduce_mean(tf.nn.softmax_cross_entropy_with_logits(labels=Y,logits=preds))\n",
    "\n",
    "opti=tf.train.AdamOptimizer(learning_rate=0.01)\n",
    "step=opti.minimize(loss)"
   ]
  },
  {
   "cell_type": "markdown",
   "metadata": {},
   "source": [
    "# Training"
   ]
  },
  {
   "cell_type": "code",
   "execution_count": 7,
   "metadata": {},
   "outputs": [],
   "source": [
    "def train_model(Sess):\n",
    "    batch_size = 100\n",
    "    for i in range(3):\n",
    "        num_batches = int(data.train.num_examples/batch_size)\n",
    "        total_cost = 0\n",
    "\n",
    "        for j in range(num_batches):\n",
    "            batch_x, batch_y = data.train.next_batch(batch_size) \n",
    "            c, _ = Sess.run([loss, step], feed_dict={X:batch_x, Y:batch_y})\n",
    "            total_cost += c\n",
    "\n",
    "        print(total_cost)"
   ]
  },
  {
   "cell_type": "markdown",
   "metadata": {},
   "source": [
    "# Pruning"
   ]
  },
  {
   "cell_type": "markdown",
   "metadata": {},
   "source": [
    "#### Session1 and training "
   ]
  },
  {
   "cell_type": "code",
   "execution_count": 8,
   "metadata": {},
   "outputs": [
    {
     "name": "stdout",
     "output_type": "stream",
     "text": [
      "15023579.8861866\n",
      "23877.560679078102\n",
      "6335.2667660141\n"
     ]
    },
    {
     "data": {
      "text/plain": [
       "0.9354"
      ]
     },
     "execution_count": 8,
     "metadata": {},
     "output_type": "execute_result"
    }
   ],
   "source": [
    "Sess1=tf.Session()     #Session1\n",
    "Sess1.run(tf.global_variables_initializer())\n",
    "\n",
    "train_model(Sess1)\n",
    " \n",
    "pred=Sess1.run([preds],feed_dict={X:data.test.images /255.})\n",
    "(pred[0].argmax(1)==data.test.labels.argmax(1)).sum()/ pred[0].shape[0]  #accuracy"
   ]
  },
  {
   "cell_type": "markdown",
   "metadata": {},
   "source": [
    "### Weight Pruning "
   ]
  },
  {
   "cell_type": "markdown",
   "metadata": {},
   "source": [
    "Weight pruning: set individual weights in the weight matrix to zero. This corresponds to deleting connections as in the figure above.\n",
    "\n",
    "Here, to achieve sparsity of k% we rank the individual weights in weight matrix W according to their magnitude (absolute value), and then set to zero the smallest k%."
   ]
  },
  {
   "cell_type": "markdown",
   "metadata": {},
   "source": [
    "Pruning the weights of the layers L2\n"
   ]
  },
  {
   "cell_type": "code",
   "execution_count": 10,
   "metadata": {},
   "outputs": [],
   "source": [
    "acc_w=[]\n",
    "k=[0,25,50,60,70,80,90,95,97,99]\n",
    "\n",
    "for i in k:\n",
    "    wts=Sess1.run(weights)[\"L2\"].reshape((-1,))\n",
    "                              \n",
    "    param=10000*i  #there are 1000000 parameters weights total in layers l2,l3,l4\n",
    "    idx = np.argpartition(wts, param)\n",
    "    wts[idx[:param]]=0.0 #etting i% params to 0\n",
    "    Sess1.run(tf.assign(weights[\"L2\"],tf.convert_to_tensor(wts[:1000000].reshape(1000,1000)))) \n",
    "   \n",
    "    pred=Sess1.run([preds],feed_dict={X:data.test.images /255.})\n",
    "    acc_w.append((pred[0].argmax(1)==data.test.labels.argmax(1)).sum()/ pred[0].shape[0] * 100)\n",
    "    "
   ]
  },
  {
   "cell_type": "code",
   "execution_count": 11,
   "metadata": {
    "scrolled": true
   },
   "outputs": [
    {
     "data": {
      "image/png": "[encoded data removed]",
      "text/plain": [
       "<Figure size 432x288 with 1 Axes>"
      ]
     },
     "metadata": {},
     "output_type": "display_data"
    }
   ],
   "source": [
    "plt.scatter(k,acc_w)\n",
    "plt.ylabel(\"Accuracy\")\n",
    "plt.xlabel(\"Weight Pruning %\")\n",
    "plt.show()"
   ]
  },
  {
   "cell_type": "markdown",
   "metadata": {},
   "source": [
    "## Neuron Pruning"
   ]
  },
  {
   "cell_type": "markdown",
   "metadata": {},
   "source": [
    "set entire columns to zero in the weight matrix to zero, in effect\n",
    "deleting the corresponding output neuron.\n",
    "\n",
    "Here to achieve sparsity of k% we rank the columns of a weight matrix according\n",
    "to their L2-norm and delete the smallest k%.\n"
   ]
  },
  {
   "cell_type": "markdown",
   "metadata": {},
   "source": [
    "#### Session2 and training "
   ]
  },
  {
   "cell_type": "code",
   "execution_count": 13,
   "metadata": {},
   "outputs": [
    {
     "name": "stdout",
     "output_type": "stream",
     "text": [
      "15043344.059488177\n",
      "4213.803618602455\n",
      "1731.5252162141355\n"
     ]
    },
    {
     "data": {
      "text/plain": [
       "0.9364"
      ]
     },
     "execution_count": 13,
     "metadata": {},
     "output_type": "execute_result"
    }
   ],
   "source": [
    "Sess2=tf.Session()     #Session2\n",
    "Sess2.run(tf.global_variables_initializer())\n",
    "\n",
    "train_model(Sess2)\n",
    " \n",
    "pred=Sess2.run([preds],feed_dict={X:data.test.images /255.})\n",
    "(pred[0].argmax(1)==data.test.labels.argmax(1)).sum()/ pred[0].shape[0]  #accuracy"
   ]
  },
  {
   "cell_type": "markdown",
   "metadata": {},
   "source": [
    "Pruning the neurons of L2 layer"
   ]
  },
  {
   "cell_type": "code",
   "execution_count": 14,
   "metadata": {},
   "outputs": [],
   "source": [
    "def unit_prun(Lay):\n",
    "    \n",
    "    acc=[]\n",
    "    k=[0,25,50,60,70,80,90,95,97,99]\n",
    "    arbit=Sess2.run(weights)[Lay]\n",
    "    for i in k:\n",
    "        wts=Sess2.run(weights)[Lay]\n",
    "        l2_norm=(wts**2).sum(axis=0)\n",
    "        param=int(arbit.shape[1]*i /100)\n",
    "        \n",
    "        idx = np.argpartition(l2_norm, param)\n",
    "\n",
    "        wts[:,idx[:param]]=0    # setting i% of units with low L2 norm to Zero\n",
    "        \n",
    "#         wts=tf.convert_to_tensor(wts)\n",
    "#         zero = tf.constant(0, dtype=tf.float32)\n",
    "#         where = tf.not_equal(wts, zero)\n",
    "#         indices = tf.where(where)\n",
    "#         values = tf.gather_nd(wts, indices)\n",
    "#         wts = tf.SparseTensor(indices, values, wts.shape)\n",
    "        \n",
    "        Sess2.run(tf.assign(weights[Lay],tf.convert_to_tensor(wts)))  # assigning\n",
    "\n",
    "\n",
    "        pred=Sess2.run([preds],feed_dict={X:data.test.images /255.})\n",
    "\n",
    "        acc.append((pred[0].argmax(1)==data.test.labels.argmax(1)).sum()/ pred[0].shape[0] * 100)\n",
    "        \n",
    "    return k,acc\n"
   ]
  },
  {
   "cell_type": "code",
   "execution_count": 15,
   "metadata": {
    "scrolled": true
   },
   "outputs": [
    {
     "data": {
      "image/png": "[encoded data removed]",
      "text/plain": [
       "<Figure size 432x288 with 1 Axes>"
      ]
     },
     "metadata": {},
     "output_type": "display_data"
    }
   ],
   "source": [
    "k,acc_u=unit_prun(\"L2\")\n",
    "plt.plot(k,acc_u)\n",
    "plt.ylabel(\"Accuracy\")\n",
    "plt.xlabel(\"Unit Pruning %\")\n",
    "plt.show()"
   ]
  },
  {
   "cell_type": "markdown",
   "metadata": {},
   "source": [
    "# Comparing and conclusion "
   ]
  },
  {
   "cell_type": "code",
   "execution_count": 21,
   "metadata": {},
   "outputs": [
    {
     "data": {
      "text/plain": [
       "Text(0,0.5,'Accuracy')"
      ]
     },
     "execution_count": 21,
     "metadata": {},
     "output_type": "execute_result"
    },
    {
     "data": {
      "image/png": "[encoded data removed]",
      "text/plain": [
       "<Figure size 1080x576 with 2 Axes>"
      ]
     },
     "metadata": {},
     "output_type": "display_data"
    }
   ],
   "source": [
    "fig=plt.figure(figsize=(15,8))\n",
    "\n",
    "ax1=fig.add_subplot(2,2,2)\n",
    "ax1.plot(k,acc_w)\n",
    "ax1.set_title(\"Weight Pruning\")\n",
    "ax1.set_xlabel(\"Weight Pruning %\")\n",
    "ax1.set_ylabel(\"Accuracy\")\n",
    "\n",
    "ax2=fig.add_subplot(2,2,1)\n",
    "ax2.plot(k,acc_u)\n",
    "ax2.set_title(\"Unit Pruning\")\n",
    "ax2.set_xlabel(\"Unit Pruning %\")\n",
    "ax2.set_ylabel(\"Accuracy\") \n"
   ]
  },
  {
   "cell_type": "code",
   "execution_count": 22,
   "metadata": {},
   "outputs": [
    {
     "data": {
      "image/png": "[encoded data removed]",
      "text/plain": [
       "<Figure size 432x288 with 1 Axes>"
      ]
     },
     "metadata": {},
     "output_type": "display_data"
    }
   ],
   "source": [
    "plt.plot(k,acc_u)\n",
    "plt.plot(k,acc_w)\n",
    "plt.xlabel(\"Pruning %\")\n",
    "plt.ylabel(\"Accuracy\")\n",
    "plt.title(\"Pruning\")\n",
    "plt.show()"
   ]
  },
  {
   "cell_type": "markdown",
   "metadata": {},
   "source": [
    "# CONCLUSION "
   ]
  },
  {
   "cell_type": "markdown",
   "metadata": {},
   "source": [
    "### * Weight Pruning Tends to work better for the layer L2 , there's a parabolic decrease in accuracy.\n",
    "\n",
    "\n",
    "### * Unit pruning for L2 only works as expected and decreases linearly and then steeply with the accuracy of the model\n",
    "\n",
    "\n"
   ]
  },
  {
   "cell_type": "code",
   "execution_count": null,
   "metadata": {},
   "outputs": [],
   "source": []
  }
 ],
 "metadata": {
  "kernelspec": {
   "display_name": "Python 3",
   "language": "python",
   "name": "python3"
  },
  "language_info": {
   "codemirror_mode": {
    "name": "ipython",
    "version": 3
   },
   "file_extension": ".py",
   "mimetype": "text/x-python",
   "name": "python",
   "nbconvert_exporter": "python",
   "pygments_lexer": "ipython3",
   "version": "3.6.5"
  }
 },
 "nbformat": 4,
 "nbformat_minor": 2
}
